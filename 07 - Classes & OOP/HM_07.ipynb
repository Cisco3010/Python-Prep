{
 "cells": [
  {
   "cell_type": "markdown",
   "metadata": {},
   "source": [
    "1. Crear la clase vehículo que contenga los atributos:"
   ]
  },
  {
   "cell_type": "code",
   "execution_count": 13,
   "metadata": {},
   "outputs": [],
   "source": [
    "class vehiculo():\n",
    "    def __init__(self, color, tipo, cilindrada):\n",
    "        self.color = color\n",
    "        self.tipo = tipo\n",
    "        self.cilindrada = cilindrada\n",
    "        self.velocidad = 0\n",
    "        self.grados = 0\n",
    "    \n",
    "    def acelerar(self, velocidad):\n",
    "        self.velocidad += velocidad\n",
    "        print(f'La {self.tipo} va a {self.velocidad} Km/hra')\n",
    "    def frenar(self, frenar):\n",
    "        self.velocidad -= frenar\n",
    "        print(f'La {self.tipo} va a {self.velocidad} Km/hra')\n",
    "    def doblar(self, grados):\n",
    "        self.grados += grados\n",
    "        print(f'La {self.tipo} doblo en {self.grados}° grados')\n",
    "    \n",
    "        "
   ]
  },
  {
   "cell_type": "code",
   "execution_count": 15,
   "metadata": {},
   "outputs": [],
   "source": [
    "moto = vehiculo('negra', 'moto', 4)\n",
    "auto = vehiculo('negra', 'auto', 6)\n",
    "camion = vehiculo('negra', 'moto', 8)"
   ]
  },
  {
   "cell_type": "code",
   "execution_count": 16,
   "metadata": {},
   "outputs": [
    {
     "name": "stdout",
     "output_type": "stream",
     "text": [
      "La moto va a 100 Km/hra\n",
      "La auto va a -50 Km/hra\n",
      "La moto doblo en 30° grados\n"
     ]
    }
   ],
   "source": [
    "moto.acelerar(100)\n",
    "auto.frenar(50)\n",
    "camion.doblar(30)"
   ]
  },
  {
   "cell_type": "markdown",
   "metadata": {},
   "source": [
    "4. Agregar a la clase Vehiculo, un método que muestre su estado, es decir, a que velocidad se encuentra y su dirección. Y otro método que muestre color, tipo y cilindrada"
   ]
  },
  {
   "cell_type": "code",
   "execution_count": 17,
   "metadata": {},
   "outputs": [],
   "source": [
    " class vehiculo():\n",
    "    def __init__(self, color, tipo, cilindrada):\n",
    "        self.color = color\n",
    "        self.tipo = tipo\n",
    "        self.cilindrada = cilindrada\n",
    "        self.velocidad = 0\n",
    "        self.grados = 0\n",
    "    \n",
    "    def acelerar(self, velocidad):\n",
    "        self.velocidad += velocidad\n",
    "        print(f'La {self.tipo} va a {self.velocidad} Km/hra')\n",
    "    def frenar(self, frenar):\n",
    "        self.velocidad -= frenar\n",
    "        print(f'La {self.tipo} va a {self.velocidad} Km/hra')\n",
    "    def doblar(self, grados):\n",
    "        self.grados += grados\n",
    "        print(f'La {self.tipo} doblo en {self.grados}° grados')\n",
    "    def estado(self):\n",
    "        print(f'La {self.tipo} va a {self.velocidad} Km/hra a {self.grados}° grados')\n",
    "    def caracteristicas(self):\n",
    "        print(f'La {self.tipo} es de color {self.color} y tiene {self.cilindrada} cilindros')"
   ]
  },
  {
   "cell_type": "code",
   "execution_count": 21,
   "metadata": {},
   "outputs": [],
   "source": [
    "moto = vehiculo('negra', 'moto', 4)\n",
    "auto = vehiculo('negra', 'auto', 6)\n",
    "camion = vehiculo('negra', 'camion', 8)"
   ]
  },
  {
   "cell_type": "code",
   "execution_count": 22,
   "metadata": {},
   "outputs": [
    {
     "name": "stdout",
     "output_type": "stream",
     "text": [
      "La moto va a 100 Km/hra\n",
      "La auto va a -50 Km/hra\n",
      "La camion doblo en 30° grados\n",
      "La auto va a -50 Km/hra a 0° grados\n",
      "La camion es de color negra y tiene 8 cilindros\n"
     ]
    }
   ],
   "source": [
    "moto.acelerar(100)\n",
    "auto.frenar(50)\n",
    "camion.doblar(30)\n",
    "auto.estado()\n",
    "camion.caracteristicas()"
   ]
  },
  {
   "cell_type": "markdown",
   "metadata": {},
   "source": [
    "### 5. Crear una clase que permita utilizar las funciones creadas en la práctica del módulo 6\n",
    "    Verificar Primo, Valor modal, Conversión grados, Factorial"
   ]
  },
  {
   "cell_type": "code",
   "execution_count": 42,
   "metadata": {},
   "outputs": [],
   "source": [
    "class herramientas:\n",
    "    def __init__(self) -> None:\n",
    "        pass\n",
    "    def es_primo(num):\n",
    "        dem = 2\n",
    "        a = True\n",
    "        while num > dem:\n",
    "            if num%dem == 0:\n",
    "                a = False\n",
    "                break\n",
    "            dem += 1\n",
    "        if a == True:\n",
    "            print(f'{num} es primo')\n",
    "            return(num)\n",
    "        else:\n",
    "            print(f'{num} no es primo')\n",
    "    \n",
    "    def num_masmen_repe(x, mayor=True):\n",
    "        unicos = []\n",
    "        repeticiones = []\n",
    "        for i,e in enumerate(x):\n",
    "                for j,l in enumerate(x):\n",
    "                    if i < j:\n",
    "                        if e not in unicos:\n",
    "                            if e == l:\n",
    "                                unicos.append(e)\n",
    "                                repeticiones.append(1)\n",
    "\n",
    "        unicos_2 = []\n",
    "        for i,e in enumerate(x):\n",
    "                if e not in unicos_2:\n",
    "                    for j,l in enumerate(x):\n",
    "                        if e in unicos:\n",
    "                            if i < j:\n",
    "                                    if e == l:\n",
    "                                        unicos_2.append(e)\n",
    "                                        repeticiones[unicos.index(e)] = repeticiones[unicos.index(e)] + 1\n",
    "        i_mas_repe = repeticiones.index(max(repeticiones))\n",
    "        i_menos_repe = repeticiones.index(min(repeticiones))\n",
    "        mas_repe = unicos[i_mas_repe]\n",
    "        veces_mas_repe = repeticiones[i_mas_repe]\n",
    "        min_repe = unicos[i_menos_repe]\n",
    "        veces_menos_repe = repeticiones[i_menos_repe]\n",
    "\n",
    "        if mayor == True:\n",
    "            print(f'El número que más se repite es el {mas_repe} y se repite {veces_mas_repe} veces')\n",
    "        else:\n",
    "            print(f'El número que menos se repite es el {min_repe} y se repite {veces_menos_repe} veces')\n",
    "\n",
    "    def convertidor_grados(gi, de='Celsius',a='Farenheit'):\n",
    "        if (a != 'Celsius') & (a != 'Farenheit') & (a != 'Kelvin'):\n",
    "            print('Debe ingresar Celsius, Farenheit o Kelvin')\n",
    "    ## De C a \n",
    "        elif de == 'Celsius':\n",
    "            if a == 'Farenheit':\n",
    "                g = (gi * 9/5) + 32\n",
    "                \n",
    "            else:\n",
    "                g = gi+273.15\n",
    "    ## De F a\n",
    "        elif de == 'Farenheit':\n",
    "            if a == 'Celsius':\n",
    "                g = ((gi - 32)*5)/9\n",
    "            else:\n",
    "                g = ((gi - 32)*5)/9 + 273.15 \n",
    "\n",
    "    # De K a\n",
    "        elif de == 'Kelvin':\n",
    "            if a == 'Celsius':\n",
    "                g = gi - 273.15 \n",
    "            else:\n",
    "                g = ((gi - 273.15)* 9/5) + 32\n",
    "        else:\n",
    "            print('Debe ingresar Celsius, Farenheit o Kelvin')\n",
    "        print(f'{gi}° grados {de} son {g}° grados {a}')    \n",
    "        return(g, gi, de, a)\n",
    "        \n",
    "\n",
    "    def factorial(x):\n",
    "        if (type(x) != int):\n",
    "            return('Debe ingresar un numero entero y postivo')\n",
    "        elif (x < 0):\n",
    "            return('Debe ingresar un numero entero y postivo')\n",
    "        elif x == 0:\n",
    "            f = 1\n",
    "        else:\n",
    "            f = x\n",
    "            while x > 1:\n",
    "                f = f*(x-1)\n",
    "                x -= 1\n",
    "            return f\n"
   ]
  },
  {
   "cell_type": "code",
   "execution_count": 46,
   "metadata": {},
   "outputs": [],
   "source": [
    "prueba1 = herramientas"
   ]
  },
  {
   "cell_type": "markdown",
   "metadata": {},
   "source": [
    "### 7. Es necesario que la clase creada en el punto 5 contenga una lista, sobre la cual se aplquen las funciones incorporadas"
   ]
  },
  {
   "cell_type": "code",
   "execution_count": 113,
   "metadata": {},
   "outputs": [],
   "source": [
    "prueba2 = herramientas([1,1,2,5,8,8,9,11,15,16,16,16,18,20])"
   ]
  },
  {
   "cell_type": "code",
   "execution_count": 115,
   "metadata": {},
   "outputs": [
    {
     "name": "stdout",
     "output_type": "stream",
     "text": [
      "['__class__', '__delattr__', '__dict__', '__dir__', '__doc__', '__eq__', '__format__', '__ge__', '__getattribute__', '__gt__', '__hash__', '__init__', '__init_subclass__', '__le__', '__lt__', '__module__', '__ne__', '__new__', '__reduce__', '__reduce_ex__', '__repr__', '__setattr__', '__sizeof__', '__str__', '__subclasshook__', '__weakref__', '_herramientas__es_primo', 'es_primo']\n"
     ]
    }
   ],
   "source": [
    "print(dir(herramientas))"
   ]
  },
  {
   "cell_type": "code",
   "execution_count": 114,
   "metadata": {},
   "outputs": [
    {
     "name": "stdout",
     "output_type": "stream",
     "text": [
      "5\n",
      "5\n",
      "5\n",
      "5\n",
      "5\n",
      "5\n",
      "5\n",
      "5\n",
      "5\n",
      "5\n",
      "5\n",
      "5\n",
      "5\n",
      "5\n"
     ]
    }
   ],
   "source": [
    "prueba2.es_primo()"
   ]
  },
  {
   "cell_type": "code",
   "execution_count": 139,
   "metadata": {},
   "outputs": [],
   "source": [
    "class herramientas:\n",
    "    def __init__(self, lista_numeros):\n",
    "        self.lista = lista_numeros\n",
    "    \n",
    "    def es_primo(self):\n",
    "        for i in self.lista:\n",
    "            self.__es_primo(i)\n",
    "    \n",
    "    def convertidor_grados(self, de='Celsius', a='Farenheit'):\n",
    "        for i in self.lista:\n",
    "            self.__convertidor_grados(i, de, a)\n",
    "\n",
    "    def factorial(self):\n",
    "        for i in self.lista:\n",
    "            self.__factorial(i)\n",
    "\n",
    "    def __es_primo(self, num):\n",
    "        dem = 2\n",
    "        a = True\n",
    "        while num > dem:\n",
    "            if num%dem == 0:\n",
    "                a = False\n",
    "                break\n",
    "            dem += 1\n",
    "        if a == True:\n",
    "            print(f'{num} es primo')\n",
    "            return(num)\n",
    "        else:\n",
    "            print(f'{num} no es primo')\n",
    "    \n",
    "    def num_masmen_repe(self, mayor=True):\n",
    "        unicos = []\n",
    "        repeticiones = []\n",
    "        for i,e in enumerate(self.lista):\n",
    "                for j,l in enumerate(self.lista):\n",
    "                    if i < j:\n",
    "                        if e not in unicos:\n",
    "                            if e == l:\n",
    "                                unicos.append(e)\n",
    "                                repeticiones.append(1)\n",
    "\n",
    "        unicos_2 = []\n",
    "        for i,e in enumerate(x):\n",
    "                if e not in unicos_2:\n",
    "                    for j,l in enumerate(x):\n",
    "                        if e in unicos:\n",
    "                            if i < j:\n",
    "                                    if e == l:\n",
    "                                        unicos_2.append(e)\n",
    "                                        repeticiones[unicos.index(e)] = repeticiones[unicos.index(e)] + 1\n",
    "        i_mas_repe = repeticiones.index(max(repeticiones))\n",
    "        i_menos_repe = repeticiones.index(min(repeticiones))\n",
    "        mas_repe = unicos[i_mas_repe]\n",
    "        veces_mas_repe = repeticiones[i_mas_repe]\n",
    "        min_repe = unicos[i_menos_repe]\n",
    "        veces_menos_repe = repeticiones[i_menos_repe]\n",
    "\n",
    "        if mayor == True:\n",
    "            print(f'El número que más se repite es el {mas_repe} y se repite {veces_mas_repe} veces')\n",
    "        else:\n",
    "            print(f'El número que menos se repite es el {min_repe} y se repite {veces_menos_repe} veces')\n",
    "\n",
    "    def __convertidor_grados(self, gi, de='Celsius',a='Farenheit'):\n",
    "        if (a != 'Celsius') & (a != 'Farenheit') & (a != 'Kelvin'):\n",
    "            print('Debe ingresar Celsius, Farenheit o Kelvin')\n",
    "    ## De C a \n",
    "        elif de == 'Celsius':\n",
    "            if a == 'Farenheit':\n",
    "                g = (gi * 9/5) + 32\n",
    "                \n",
    "            else:\n",
    "                g = gi+273.15\n",
    "    ## De F a\n",
    "        elif de == 'Farenheit':\n",
    "            if a == 'Celsius':\n",
    "                g = ((gi - 32)*5)/9\n",
    "            else:\n",
    "                g = ((gi - 32)*5)/9 + 273.15 \n",
    "\n",
    "    # De K a\n",
    "        elif de == 'Kelvin':\n",
    "            if a == 'Celsius':\n",
    "                g = gi - 273.15 \n",
    "            else:\n",
    "                g = ((gi - 273.15)* 9/5) + 32\n",
    "        else:\n",
    "            print('Debe ingresar Celsius, Farenheit o Kelvin')\n",
    "        print(f'{gi}° grados {de} son {g}° grados {a}')    \n",
    "        return(g, gi, de, a)\n",
    "        \n",
    "\n",
    "    def __factorial(self, x):\n",
    "        if (type(x) != int):\n",
    "            return('Debe ingresar un numero entero y postivo')\n",
    "        elif (x < 0):\n",
    "            return('Debe ingresar un numero entero y postivo')\n",
    "        elif x == 0:\n",
    "            f = 1\n",
    "        else:\n",
    "            f = x\n",
    "            while x > 1:\n",
    "                f = f*(x-1)\n",
    "                x -= 1\n",
    "            return f\n"
   ]
  },
  {
   "cell_type": "code",
   "execution_count": 141,
   "metadata": {},
   "outputs": [],
   "source": [
    "x = [1,1,2,5,8,8,9,11,15,16,16,16,18,20]\n",
    "prueba2 = herramientas(x)"
   ]
  },
  {
   "cell_type": "code",
   "execution_count": 142,
   "metadata": {},
   "outputs": [
    {
     "name": "stdout",
     "output_type": "stream",
     "text": [
      "El número que más se repite es el 16 y se repite 3 veces\n"
     ]
    }
   ],
   "source": [
    "prueba2.num_masmen_repe()"
   ]
  },
  {
   "cell_type": "markdown",
   "metadata": {},
   "source": [
    "8. Crear un archivo .py aparte y ubicar allí la clase generada en el punto anterior. Luego realizar la importación del módulo y probar alguna de sus funciones\n",
    "\n"
   ]
  },
  {
   "cell_type": "code",
   "execution_count": 79,
   "metadata": {},
   "outputs": [],
   "source": [
    "from funciones_matematicas import *"
   ]
  }
 ],
 "metadata": {
  "kernelspec": {
   "display_name": "Python 3.9.13 64-bit (windows store)",
   "language": "python",
   "name": "python3"
  },
  "language_info": {
   "codemirror_mode": {
    "name": "ipython",
    "version": 3
   },
   "file_extension": ".py",
   "mimetype": "text/x-python",
   "name": "python",
   "nbconvert_exporter": "python",
   "pygments_lexer": "ipython3",
   "version": "3.9.13"
  },
  "orig_nbformat": 4,
  "vscode": {
   "interpreter": {
    "hash": "a22d2ee5a6d635ac3ff0b9440f9c0daeb1f7cada6db4d1c85d7998eba536c3f0"
   }
  }
 },
 "nbformat": 4,
 "nbformat_minor": 2
}
