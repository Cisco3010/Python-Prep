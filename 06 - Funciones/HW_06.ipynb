{
 "cells": [
  {
   "cell_type": "code",
   "execution_count": 13,
   "metadata": {},
   "outputs": [],
   "source": [
    "def hola(x, y=2):\n",
    "    '''\n",
    "    Devuelve x - y\n",
    "    y es 2 por default\n",
    "    '''\n",
    "    a = x - y\n",
    "    print(x)\n",
    "    return a"
   ]
  },
  {
   "cell_type": "code",
   "execution_count": 12,
   "metadata": {},
   "outputs": [
    {
     "name": "stdout",
     "output_type": "stream",
     "text": [
      "2\n"
     ]
    }
   ],
   "source": [
    "b = hola(2)"
   ]
  },
  {
   "cell_type": "code",
   "execution_count": 14,
   "metadata": {},
   "outputs": [
    {
     "name": "stdout",
     "output_type": "stream",
     "text": [
      "Help on function hola in module __main__:\n",
      "\n",
      "hola(x, y=2)\n",
      "    Devuelve x - y\n",
      "    y es 2 por default\n",
      "\n"
     ]
    }
   ],
   "source": [
    "help(hola)"
   ]
  },
  {
   "cell_type": "markdown",
   "metadata": {},
   "source": [
    "Parametros por Valor y parametros por Referencia"
   ]
  },
  {
   "cell_type": "code",
   "execution_count": 30,
   "metadata": {},
   "outputs": [],
   "source": [
    "\n",
    "def valor_paso_referencia(x):\n",
    "    if type(x) == list:\n",
    "        x = x.append('no me jodas')\n",
    "        x = []\n",
    "    else:\n",
    "        x = 3\n",
    "    print(x)"
   ]
  },
  {
   "cell_type": "code",
   "execution_count": 31,
   "metadata": {},
   "outputs": [
    {
     "name": "stdout",
     "output_type": "stream",
     "text": [
      "[]\n"
     ]
    }
   ],
   "source": [
    "x = ['hola mundo']\n",
    "valor_paso_referencia(x)"
   ]
  },
  {
   "cell_type": "code",
   "execution_count": 32,
   "metadata": {},
   "outputs": [
    {
     "name": "stdout",
     "output_type": "stream",
     "text": [
      "['hola mundo', 'no me jodas']\n"
     ]
    }
   ],
   "source": [
    "print(x)"
   ]
  },
  {
   "cell_type": "markdown",
   "metadata": {},
   "source": [
    "1. Crear una función que reciba un número como parámetro y devuelva si True si es primo y False si no lo es"
   ]
  },
  {
   "cell_type": "code",
   "execution_count": 53,
   "metadata": {},
   "outputs": [],
   "source": [
    "def es_primo(num):\n",
    "    dem = 2\n",
    "    a = True\n",
    "    while num > dem:\n",
    "        if num%dem == 0:\n",
    "            a = False\n",
    "            break\n",
    "        dem += 1\n",
    "    if a == True:\n",
    "        print(f'{num} es primo')\n",
    "        return(num)\n",
    "    else:\n",
    "        print(f'{num} no es primo')"
   ]
  },
  {
   "cell_type": "markdown",
   "metadata": {},
   "source": [
    "2. Utilizando la función del punto 1, realizar otra función que reciba de parámetro una lista de números y devuelva sólo aquellos que son primos en otra lista"
   ]
  },
  {
   "cell_type": "code",
   "execution_count": 100,
   "metadata": {},
   "outputs": [],
   "source": [
    "def es_primo(num):\n",
    "    dem = 2\n",
    "    a = True\n",
    "    while num > dem:\n",
    "        if num%dem == 0:\n",
    "            a = False\n",
    "            break\n",
    "        dem += 1\n",
    "    if a == True:\n",
    "        return(num)"
   ]
  },
  {
   "cell_type": "code",
   "execution_count": 114,
   "metadata": {},
   "outputs": [],
   "source": [
    "def son_primos(x):\n",
    "    y = []\n",
    "    for i in x:\n",
    "        if es_primo(int(i)) == None:\n",
    "            continue\n",
    "        else:\n",
    "            y.append(es_primo(i))\n",
    "    return y\n"
   ]
  },
  {
   "cell_type": "code",
   "execution_count": 117,
   "metadata": {},
   "outputs": [],
   "source": [
    "y= []\n",
    "x = [1,2,3,4,5,6,7,8,9,10,11,12,13,14,15,16,17,18,19,20]"
   ]
  },
  {
   "cell_type": "code",
   "execution_count": 118,
   "metadata": {},
   "outputs": [
    {
     "data": {
      "text/plain": [
       "[1, 2, 3, 5, 7, 11, 13, 17, 19]"
      ]
     },
     "execution_count": 118,
     "metadata": {},
     "output_type": "execute_result"
    }
   ],
   "source": [
    "y = son_primos(x)\n",
    "y"
   ]
  },
  {
   "cell_type": "markdown",
   "metadata": {},
   "source": [
    "3.Crear una función que al recibir una lista de números, devuelva el que más se repite y cuántas veces lo hace. Si hay más de un \"más repetido\", que devuelva cualquiera"
   ]
  },
  {
   "cell_type": "code",
   "execution_count": 263,
   "metadata": {},
   "outputs": [],
   "source": [
    "def num_mas_repe(x):\n",
    "    unicos = []\n",
    "    repeticiones = []\n",
    "    for i,e in enumerate(x):\n",
    "            for j,l in enumerate(x):\n",
    "                if i < j:\n",
    "                    if e not in unicos:\n",
    "                        if e == l:\n",
    "                            unicos.append(e)\n",
    "                            repeticiones.append(1)\n",
    "\n",
    "    unicos_2 = []\n",
    "    for i,e in enumerate(x):\n",
    "            if e not in unicos_2:\n",
    "                for j,l in enumerate(x):\n",
    "                    if e in unicos:\n",
    "                        if i < j:\n",
    "                                if e == l:\n",
    "                                    unicos_2.append(e)\n",
    "                                    repeticiones[unicos.index(e)] = repeticiones[unicos.index(e)] + 1\n",
    "    i_mas_repe = repeticiones.index(max(repeticiones))\n",
    "    mas_repe = unicos[i_mas_repe]\n",
    "    veces_repe = repeticiones[i_mas_repe]\n",
    "\n",
    "    print(f'El número que más se repite es el {mas_repe} y se repite {veces_repe} veces')\n",
    "    return (unicos,repeticiones)"
   ]
  },
  {
   "cell_type": "markdown",
   "metadata": {},
   "source": [
    "4. A la función del punto 3, agregar un parámetro más, que permita elegir si se requiere el menor o el mayor de los mas repetidos."
   ]
  },
  {
   "cell_type": "code",
   "execution_count": 272,
   "metadata": {},
   "outputs": [],
   "source": [
    "def num_masmen_repe(x, mayor=True):\n",
    "    unicos = []\n",
    "    repeticiones = []\n",
    "    for i,e in enumerate(x):\n",
    "            for j,l in enumerate(x):\n",
    "                if i < j:\n",
    "                    if e not in unicos:\n",
    "                        if e == l:\n",
    "                            unicos.append(e)\n",
    "                            repeticiones.append(1)\n",
    "\n",
    "    unicos_2 = []\n",
    "    for i,e in enumerate(x):\n",
    "            if e not in unicos_2:\n",
    "                for j,l in enumerate(x):\n",
    "                    if e in unicos:\n",
    "                        if i < j:\n",
    "                                if e == l:\n",
    "                                    unicos_2.append(e)\n",
    "                                    repeticiones[unicos.index(e)] = repeticiones[unicos.index(e)] + 1\n",
    "    i_mas_repe = repeticiones.index(max(repeticiones))\n",
    "    i_menos_repe = repeticiones.index(min(repeticiones))\n",
    "    mas_repe = unicos[i_mas_repe]\n",
    "    veces_mas_repe = repeticiones[i_mas_repe]\n",
    "    min_repe = unicos[i_menos_repe]\n",
    "    veces_menos_repe = repeticiones[i_menos_repe]\n",
    "\n",
    "    if mayor == True:\n",
    "        print(f'El número que más se repite es el {mas_repe} y se repite {veces_mas_repe} veces')\n",
    "    else:\n",
    "        print(f'El número que menos se repite es el {min_repe} y se repite {veces_menos_repe} veces')\n",
    "   "
   ]
  },
  {
   "cell_type": "code",
   "execution_count": 278,
   "metadata": {},
   "outputs": [
    {
     "name": "stdout",
     "output_type": "stream",
     "text": [
      "El número que más se repite es el 6 y se repite 11 veces\n"
     ]
    }
   ],
   "source": [
    "x = [10,10,10,10,10,5,5,5,5,5,5,5,1,5,6,6,6,6,6,6,6,6,6,6,8,10,22,5,6,4,11,10,9,5]\n",
    "num_masmen_repe(x, mayor=True)"
   ]
  },
  {
   "cell_type": "markdown",
   "metadata": {},
   "source": [
    "5. Crear una función que convierta entre grados Celsius, Farenheit y Kelvin"
   ]
  },
  {
   "cell_type": "code",
   "execution_count": 304,
   "metadata": {},
   "outputs": [],
   "source": [
    "def convertidor_grados(gi, de='Celsius',a='Farenheit'):\n",
    "        if (a != 'Celsius') & (a != 'Farenheit') & (a != 'Kelvin'):\n",
    "            print('Debe ingresar Celsius, Farenheit o Kelvin')\n",
    "    ## De C a \n",
    "        elif de == 'Celsius':\n",
    "            if a == 'Farenheit':\n",
    "                g = (gi * 9/5) + 32\n",
    "                \n",
    "            else:\n",
    "                g = gi+273.15\n",
    "    ## De F a\n",
    "        elif de == 'Farenheit':\n",
    "            if a == 'Celsius':\n",
    "                g = ((gi - 32)*5)/9\n",
    "            else:\n",
    "                g = ((gi - 32)*5)/9 + 273.15 \n",
    "\n",
    "    # De K a\n",
    "        elif de == 'Kelvin':\n",
    "            if a == 'Celsius':\n",
    "                g = gi - 273.15 \n",
    "            else:\n",
    "                g = ((gi - 273.15)* 9/5) + 32\n",
    "        else:\n",
    "            print('Debe ingresar Celsius, Farenheit o Kelvin')\n",
    "        return(g, gi, de, a)    \n",
    "\n"
   ]
  },
  {
   "cell_type": "code",
   "execution_count": 305,
   "metadata": {},
   "outputs": [
    {
     "data": {
      "text/plain": [
       "(260.0, 500, 'Farenheit', 'Celsius')"
      ]
     },
     "execution_count": 305,
     "metadata": {},
     "output_type": "execute_result"
    }
   ],
   "source": [
    "convertidor_grados(500, de='Farenheit', a='Celsius')"
   ]
  },
  {
   "cell_type": "markdown",
   "metadata": {},
   "source": [
    "6. Iterando una lista con los tres valores posibles de temperatura que recibe la función del punto 5, hacer un print para cada combinación de los mismos:"
   ]
  },
  {
   "cell_type": "code",
   "execution_count": 306,
   "metadata": {},
   "outputs": [
    {
     "name": "stdout",
     "output_type": "stream",
     "text": [
      "100 de Celsius a Farenheit son 212.0\n",
      "100 de Celsius a Kelvin son 373.15\n",
      "100 de Farenheit a Celsius son 37.77777777777778\n",
      "100 de Farenheit a Kelvin son 310.92777777777775\n",
      "100 de Kelvin a Celsius son -173.14999999999998\n",
      "100 de Kelvin a Farenheit son -279.66999999999996\n"
     ]
    }
   ],
   "source": [
    "list = ['Celsius','Farenheit','Kelvin']\n",
    "\n",
    "for de in list:\n",
    "    for a in list:\n",
    "        if de == a:\n",
    "            continue\n",
    "        else:\n",
    "            p = convertidor_grados(100, de=de, a=a)\n",
    "            print(f'{p[1]} de {p[2]} a {p[3]} son {p[0]}')\n"
   ]
  },
  {
   "cell_type": "markdown",
   "metadata": {},
   "source": [
    "7. Armar una función que devuelva el factorial de un número. Tener en cuenta que el usuario puede equivocarse y enviar de parámetro un número no entero o negativo"
   ]
  },
  {
   "cell_type": "code",
   "execution_count": 318,
   "metadata": {},
   "outputs": [],
   "source": [
    "def factorial(x):\n",
    "    if (type(x) != int):\n",
    "        return('Debe ingresar un numero entero y postivo')\n",
    "    elif (x < 0):\n",
    "        return('Debe ingresar un numero entero y postivo')\n",
    "    elif x == 0:\n",
    "        f = 1\n",
    "    else:\n",
    "        f = x\n",
    "        while x > 1:\n",
    "            f = f*(x-1)\n",
    "            x -= 1\n",
    "        return f\n",
    "\n"
   ]
  },
  {
   "cell_type": "code",
   "execution_count": 319,
   "metadata": {},
   "outputs": [
    {
     "name": "stdout",
     "output_type": "stream",
     "text": [
      "6\n",
      "Debe ingresar un numero entero y postivo\n",
      "Debe ingresar un numero entero y postivo\n",
      "Debe ingresar un numero entero y postivo\n"
     ]
    }
   ],
   "source": [
    "print(factorial(3))\n",
    "print(factorial(-2))\n",
    "print(factorial(1.23))\n",
    "print(factorial('6'))"
   ]
  }
 ],
 "metadata": {
  "kernelspec": {
   "display_name": "Python 3.9.13 64-bit (windows store)",
   "language": "python",
   "name": "python3"
  },
  "language_info": {
   "codemirror_mode": {
    "name": "ipython",
    "version": 3
   },
   "file_extension": ".py",
   "mimetype": "text/x-python",
   "name": "python",
   "nbconvert_exporter": "python",
   "pygments_lexer": "ipython3",
   "version": "3.9.13"
  },
  "orig_nbformat": 4,
  "vscode": {
   "interpreter": {
    "hash": "a22d2ee5a6d635ac3ff0b9440f9c0daeb1f7cada6db4d1c85d7998eba536c3f0"
   }
  }
 },
 "nbformat": 4,
 "nbformat_minor": 2
}
