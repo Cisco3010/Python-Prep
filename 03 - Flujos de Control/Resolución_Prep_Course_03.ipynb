{
 "cells": [
  {
   "cell_type": "markdown",
   "metadata": {},
   "source": [
    "1 .- Crear una variable que contenga un elemento del conjunto de números enteros y luego imprimir por pantalla si es mayor o menor a cero"
   ]
  },
  {
   "cell_type": "code",
   "execution_count": 3,
   "metadata": {},
   "outputs": [
    {
     "name": "stdout",
     "output_type": "stream",
     "text": [
      "Es cero\n"
     ]
    }
   ],
   "source": [
    "a = 0\n",
    "if a < 0:\n",
    "    print('Es menor que cero')\n",
    "elif a > 0:\n",
    "    print('Es mayor que cero')\n",
    "else:\n",
    "    print('Es cero')"
   ]
  },
  {
   "cell_type": "markdown",
   "metadata": {},
   "source": [
    "2.- Crear dos variables y un condicional que informe si son del mismo tipo de dato"
   ]
  },
  {
   "cell_type": "code",
   "execution_count": 7,
   "metadata": {},
   "outputs": [
    {
     "name": "stdout",
     "output_type": "stream",
     "text": [
      "No son el mismo tipo de datos\n"
     ]
    }
   ],
   "source": [
    "a = 2\n",
    "b = 'y'\n",
    "\n",
    "if type(a) == type(b):\n",
    "    print('Mismo tipo de Datos')\n",
    "else:\n",
    "    print('No son el mismo tipo de datos')"
   ]
  },
  {
   "cell_type": "code",
   "execution_count": 15,
   "metadata": {},
   "outputs": [
    {
     "name": "stdout",
     "output_type": "stream",
     "text": [
      "2 soy hermoso\n",
      "2 soy hermoso\n"
     ]
    }
   ],
   "source": [
    "print(f'{a} soy hermoso')\n",
    "print(str(a) + ' soy hermoso')"
   ]
  },
  {
   "cell_type": "code",
   "execution_count": 24,
   "metadata": {},
   "outputs": [
    {
     "name": "stdout",
     "output_type": "stream",
     "text": [
      "8\n",
      "80\n"
     ]
    }
   ],
   "source": [
    "a = 10\n",
    "b = 0\n",
    "c = 0\n",
    "while b < 8:\n",
    "    b += 1\n",
    "    for i in range(0,a):\n",
    "        c += 1\n",
    "print(b)"
   ]
  },
  {
   "cell_type": "markdown",
   "metadata": {},
   "source": [
    "Imprimir los números primos existentes entre 0 y 30\n",
    "Utilizar las sentencias break y/ó continue para tal fin"
   ]
  },
  {
   "cell_type": "code",
   "execution_count": 102,
   "metadata": {},
   "outputs": [
    {
     "name": "stdout",
     "output_type": "stream",
     "text": [
      "2 No es primo\n",
      "3 Es primo\n",
      "4 No es primo\n",
      "5 Es primo\n",
      "6 No es primo\n",
      "7 Es primo\n",
      "8 No es primo\n",
      "9 No es primo\n",
      "10 No es primo\n",
      "11 Es primo\n",
      "12 No es primo\n",
      "13 Es primo\n",
      "14 No es primo\n",
      "15 No es primo\n",
      "16 No es primo\n",
      "17 Es primo\n",
      "18 No es primo\n",
      "19 Es primo\n",
      "20 No es primo\n",
      "21 No es primo\n",
      "22 No es primo\n",
      "23 Es primo\n",
      "24 No es primo\n",
      "25 No es primo\n",
      "26 No es primo\n",
      "27 No es primo\n",
      "28 No es primo\n",
      "29 Es primo\n",
      "30 No es primo\n"
     ]
    }
   ],
   "source": [
    "\n",
    "l = 0\n",
    "for num in range(2,30+1):\n",
    "    dem = 2\n",
    "    while dem < num:\n",
    "            a = True\n",
    "            l = l + 1\n",
    "            if num%dem==0:\n",
    "                a = False\n",
    "                break\n",
    "            dem += 1\n",
    "    if a==True:\n",
    "            print(f'{num} Es primo')\n",
    "    else:\n",
    "            print(f'{num} No es primo')\n"
   ]
  },
  {
   "cell_type": "code",
   "execution_count": 88,
   "metadata": {},
   "outputs": [
    {
     "name": "stdout",
     "output_type": "stream",
     "text": [
      "2 Es primo\n",
      "3 Es primo\n",
      "4 Es primo\n",
      "5 Es primo\n",
      "6 No es primo\n",
      "7 Es primo\n",
      "8 No es primo\n",
      "9 No es primo\n",
      "10 No es primo\n",
      "11 Es primo\n",
      "12 No es primo\n",
      "13 Es primo\n",
      "14 No es primo\n",
      "15 No es primo\n",
      "16 No es primo\n",
      "17 Es primo\n",
      "18 No es primo\n",
      "19 Es primo\n",
      "20 No es primo\n",
      "21 No es primo\n",
      "22 No es primo\n",
      "23 Es primo\n",
      "24 No es primo\n",
      "25 No es primo\n",
      "26 No es primo\n",
      "27 No es primo\n",
      "28 No es primo\n",
      "29 Es primo\n"
     ]
    }
   ],
   "source": [
    "for num in range(2,30):\n",
    "    dem=2\n",
    "    a = True\n",
    "    while dem < num-1:\n",
    "        dem += 1\n",
    "        a = True\n",
    "        if num%dem==0:\n",
    "            a = False\n",
    "            break\n",
    "    if a==True:\n",
    "        print(f'{num} Es primo')\n",
    "    else:\n",
    "        print(f'{num} No es primo')\n",
    "    \n",
    "\n",
    "\n"
   ]
  },
  {
   "cell_type": "markdown",
   "metadata": {},
   "source": [
    "13. Aplicando continue, armar un ciclo while que solo imprima los valores divisibles por 12, dentro del rango de números de 100 a 300"
   ]
  },
  {
   "cell_type": "code",
   "execution_count": 109,
   "metadata": {},
   "outputs": [
    {
     "name": "stdout",
     "output_type": "stream",
     "text": [
      "108 es indivisible por 12\n",
      "120 es indivisible por 12\n",
      "132 es indivisible por 12\n",
      "144 es indivisible por 12\n",
      "156 es indivisible por 12\n",
      "168 es indivisible por 12\n",
      "180 es indivisible por 12\n",
      "192 es indivisible por 12\n",
      "204 es indivisible por 12\n",
      "216 es indivisible por 12\n",
      "228 es indivisible por 12\n",
      "240 es indivisible por 12\n",
      "252 es indivisible por 12\n",
      "264 es indivisible por 12\n",
      "276 es indivisible por 12\n",
      "288 es indivisible por 12\n",
      "300 es indivisible por 12\n"
     ]
    }
   ],
   "source": [
    "num = 99\n",
    "\n",
    "while num < 301:\n",
    "    num += 1\n",
    "    if num%12 !=0:\n",
    "        continue\n",
    "    print(f'{num} es indivisible por 12')\n",
    "\n",
    "\n",
    "\n"
   ]
  },
  {
   "cell_type": "markdown",
   "metadata": {},
   "source": [
    "14. Utilizar la función input() que permite hacer ingresos por teclado, para encontrar números primos y dar la opción al usario de buscar el siguiente"
   ]
  },
  {
   "cell_type": "code",
   "execution_count": 158,
   "metadata": {},
   "outputs": [
    {
     "name": "stdout",
     "output_type": "stream",
     "text": [
      "2\n",
      "Ingrese otro numero:\n",
      "3\n",
      "Ingrese otro numero:\n",
      "5\n",
      "Ingrese otro numero:\n",
      "7\n",
      "Ingrese otro numero:\n",
      "11\n",
      "Ingrese otro numero:\n",
      "13\n",
      "Ingrese otro numero:\n",
      "17\n",
      "Ingrese otro numero:\n",
      "19\n",
      "Ingrese otro numero:\n",
      "23\n",
      "Ingrese otro numero:\n",
      "29\n",
      "Ingrese otro numero:\n",
      "31\n",
      "Ingrese otro numero:\n",
      "Gracias por tu sinceridad\n"
     ]
    }
   ],
   "source": [
    "\n",
    "for num in range (2,100):\n",
    "    a = True\n",
    "    dem = 2\n",
    "    while dem < num:\n",
    "        if num%dem==0:\n",
    "                a = False\n",
    "                break\n",
    "        dem += 1   \n",
    "    if a == True:\n",
    "        print(num)\n",
    "        print('Ingrese otro numero:')\n",
    "    if a == False:\n",
    "        continue\n",
    "    elif input('Chupa la que cuelga ') == 'si':\n",
    "        continue\n",
    "    else:\n",
    "        print('Gracias por tu sinceridad')\n",
    "        break"
   ]
  },
  {
   "cell_type": "code",
   "execution_count": 167,
   "metadata": {},
   "outputs": [
    {
     "name": "stdout",
     "output_type": "stream",
     "text": [
      "2\n",
      "3\n",
      "5\n",
      "7\n",
      "11\n"
     ]
    }
   ],
   "source": [
    "num = 12\n",
    "\n",
    "for num in range(2,12):\n",
    "    dem = 2\n",
    "    a = True\n",
    "    while num > dem:\n",
    "        if num%dem == 0:\n",
    "            a = False\n",
    "            break\n",
    "        dem += 1\n",
    "    if a == True:\n",
    "        print(num)\n",
    "\n",
    "\n",
    "\n",
    "\n"
   ]
  }
 ],
 "metadata": {
  "kernelspec": {
   "display_name": "Python 3.9.13 64-bit (windows store)",
   "language": "python",
   "name": "python3"
  },
  "language_info": {
   "codemirror_mode": {
    "name": "ipython",
    "version": 3
   },
   "file_extension": ".py",
   "mimetype": "text/x-python",
   "name": "python",
   "nbconvert_exporter": "python",
   "pygments_lexer": "ipython3",
   "version": "3.9.13"
  },
  "orig_nbformat": 4,
  "vscode": {
   "interpreter": {
    "hash": "a22d2ee5a6d635ac3ff0b9440f9c0daeb1f7cada6db4d1c85d7998eba536c3f0"
   }
  }
 },
 "nbformat": 4,
 "nbformat_minor": 2
}
